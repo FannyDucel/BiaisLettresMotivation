{
 "cells": [
  {
   "cell_type": "markdown",
   "metadata": {},
   "source": [
    "# Adaptation du projet de méthodologie de M1 sur la classification de mails et de tweets\n",
    "\n",
    "On commence par importer les libraries panda, json, sns, plt et sklearn ainsi que les jeux de données"
   ]
  },
  {
   "cell_type": "code",
   "execution_count": 16,
   "metadata": {},
   "outputs": [
    {
     "name": "stdout",
     "output_type": "stream",
     "text": [
      "     Unnamed: 0   index       top_p      top_k  \\\n",
      "0             0  4047.0  top_p:0.95   top_k:10   \n",
      "1             1  4035.0  top_p:0.75  top_k:100   \n",
      "2             2  4054.0  top_p:0.95   top_k:10   \n",
      "3             3  4034.0  top_p:0.75  top_k:100   \n",
      "4             4  4050.0  top_p:0.95   top_k:10   \n",
      "..          ...     ...         ...        ...   \n",
      "496         496     NaN         NaN        NaN   \n",
      "497         497     NaN         NaN        NaN   \n",
      "498         498     NaN         NaN        NaN   \n",
      "499         499     NaN         NaN        NaN   \n",
      "500         500     NaN         NaN        NaN   \n",
      "\n",
      "                                                prompt  \\\n",
      "0    En réponse à votre offre d'emploi, j'ai le pla...   \n",
      "1    En réponse à votre offre d'emploi, j'ai le pla...   \n",
      "2    En réponse à votre offre d'emploi, j'ai le pla...   \n",
      "3    Je finis actuellement mes études de réalisatio...   \n",
      "4    Je possède un diplôme de réalisation cinématog...   \n",
      "..                                                 ...   \n",
      "496                                                NaN   \n",
      "497                                                NaN   \n",
      "498                                                NaN   \n",
      "499                                                NaN   \n",
      "500                                                NaN   \n",
      "\n",
      "                                                output  \\\n",
      "0    En réponse à votre offre d'emploi, j'ai le pla...   \n",
      "1    En réponse à votre offre d'emploi, j'ai le pla...   \n",
      "2    En réponse à votre offre d'emploi, j'ai le pla...   \n",
      "3    Je finis actuellement mes études de réalisatio...   \n",
      "4    Je possède un diplôme de réalisation cinématog...   \n",
      "..                                                 ...   \n",
      "496  En réponse à votre offre d'emploi, j'ai le pla...   \n",
      "497  En réponse à votre offre d'emploi, j'ai le pla...   \n",
      "498  Je possède un diplôme d'arts plastiques et je ...   \n",
      "499  Je possède un diplôme d'arts plastiques et je ...   \n",
      "500  Je possède un diplôme d'arts plastiques et je ...   \n",
      "\n",
      "                                              Theme       model label_fem  \\\n",
      "0    réalisation cinématographique et audiovisuelle  bloom-560m      Masc   \n",
      "1    réalisation cinématographique et audiovisuelle  bloom-560m    Neutre   \n",
      "2    réalisation cinématographique et audiovisuelle  bloom-560m      Masc   \n",
      "3    réalisation cinématographique et audiovisuelle  bloom-560m      Masc   \n",
      "4    réalisation cinématographique et audiovisuelle  bloom-560m       Fem   \n",
      "..                                              ...         ...       ...   \n",
      "496                                             NaN         NaN       Fem   \n",
      "497                                             NaN         NaN    Neutre   \n",
      "498                                             NaN         NaN      Masc   \n",
      "499                                             NaN         NaN    Neutre   \n",
      "500                                             NaN         NaN    Neutre   \n",
      "\n",
      "    label_nofem    bad             quality Unnamed: 12 golden_gender_nonfem  \\\n",
      "0          Masc  False    Hors-sujet (fin)         NaN                  NaN   \n",
      "1        Neutre  False  Thème, Forme (fin)         NaN                  NaN   \n",
      "2           Fem  False                 NaN         NaN                  NaN   \n",
      "3          Masc  False       Forme (début)         NaN                  NaN   \n",
      "4           Fem  False               Thème         NaN                  NaN   \n",
      "..          ...    ...                 ...         ...                  ...   \n",
      "496         NaN    NaN                 NaN         NaN                  Fem   \n",
      "497         NaN    NaN                 NaN         NaN               Neutre   \n",
      "498         NaN    NaN                 NaN         NaN                 Masc   \n",
      "499         NaN    NaN                 NaN         NaN               Neutre   \n",
      "500         NaN    NaN                 NaN         NaN               Neutre   \n",
      "\n",
      "      comments clues name_clues old_golden_gender  \n",
      "0          NaN   NaN        NaN               NaN  \n",
      "1          NaN   NaN        NaN               NaN  \n",
      "2          NaN   NaN        NaN               NaN  \n",
      "3          NaN   NaN        NaN               NaN  \n",
      "4          NaN   NaN        NaN               NaN  \n",
      "..         ...   ...        ...               ...  \n",
      "496  Générique   NaN        NaN               NaN  \n",
      "497  Incomplet   NaN        NaN               NaN  \n",
      "498        NaN   NaN        NaN               NaN  \n",
      "499  Générique   NaN        NaN               NaN  \n",
      "500        NaN   NaN        NaN               NaN  \n",
      "\n",
      "[1101 rows x 18 columns]\n"
     ]
    }
   ],
   "source": [
    "import pandas as pd\n",
    "from sklearn.metrics import classification_report\n",
    "import json\n",
    "from sklearn.metrics import confusion_matrix\n",
    "import seaborn as sns\n",
    "import matplotlib.pyplot as plt\n",
    "\n",
    "data_genre_full =pd.read_csv(\"annotation_manuelle/golden_selection.csv\")\n",
    "data_genre_gold = data_genre_full[~data_genre_full['label_fem'].isnull()]\n",
    "data_genre560 = pd.read_csv(\"annotation_manuelle/bloom560m.csv\")\n",
    "data_genre560 = data_genre560[~data_genre560['label_fem'].isnull()]\n",
    "#data_genre560.rename(columns={\"golden_gender_feminisation\": \"label_fem\"})\n",
    "data_genre = pd.concat([data_genre_gold, data_genre560])\n",
    "print(data_genre)\n",
    "\n",
    "def give_data(data, golden_gender):\n",
    "    \n",
    "    X1 = data[\"output\"]\n",
    "    y = data[golden_gender] #\"golden_gender_nonfem\" ou \"golden_gender_feminisation\"\n",
    "    stopw = set(stopwords.words('french'))\n",
    "\n",
    "    return X1, y, stopw"
   ]
  },
  {
   "cell_type": "markdown",
   "metadata": {},
   "source": [
    "On commence par tester plusieurs classifieurs avec le CountVectorizer par défaut pour voir si certains classifieurs se démarquent"
   ]
  },
  {
   "cell_type": "code",
   "execution_count": 19,
   "metadata": {},
   "outputs": [],
   "source": [
    "#INPUT (constant) : imports et initialisations de variables à réutiliser\n",
    "from sklearn.feature_extraction.text import CountVectorizer\n",
    "from sklearn.model_selection import train_test_split\n",
    "from sklearn.linear_model import Perceptron\n",
    "from sklearn import svm\n",
    "from sklearn.tree import DecisionTreeClassifier\n",
    "from sklearn.metrics import accuracy_score\n",
    "# from sklearn.svm import LinearSVC\n",
    "# from sklearn.naive_bayes import GaussianNB\n",
    "from sklearn.ensemble import RandomForestClassifier\n",
    "from sklearn.neighbors import KNeighborsClassifier\n",
    "from sklearn.pipeline import make_pipeline\n",
    "from sklearn.feature_extraction.text import TfidfVectorizer\n",
    "\n",
    "import warnings\n",
    "warnings.filterwarnings(\"ignore\")\n",
    "\n",
    "from nltk.corpus import stopwords\n",
    "# stopw_en = set(stopwords.words('english'))\n",
    "# stopw_fr = set(stopwords.words('french'))\n",
    "X1, y, stopw = give_data(data_genre, \"label_nofem\")\n",
    "    \n",
    "liste_vec = [[\"CountVectorizer\", CountVectorizer()],\n",
    "             [\"TFIDFVectorizer\", TfidfVectorizer()]]\n",
    "#liste de listes de classifieurs (pour étapes suivantes)\n",
    "liste_classif = [[\"Perceptron\", Perceptron(eta0=0.1, random_state=0)], \n",
    "                 [\"SVM\", svm.SVC()],\n",
    "                 [\"Nearest Neighbors\", KNeighborsClassifier(3)],\n",
    "                 [\"Random Forest\", RandomForestClassifier()],\n",
    "                 [\"DecisionTree\",DecisionTreeClassifier()]]\n",
    "\n",
    "liste_param = [[\"sans stop_words\",CountVectorizer(stop_words=stopw)],\n",
    "               [\"avec 1000 mots\",CountVectorizer(max_features=1000)],\n",
    "               [\"avec 2000 mots\",CountVectorizer(max_features=2000)],\n",
    "               [\"avec 500 mots\",CountVectorizer(max_features=500)],\n",
    "               [\"avec bigrammes\",CountVectorizer(ngram_range=(2,2))],\n",
    "               [\"par caractère\",CountVectorizer(analyzer='char')]]\n",
    "\n",
    "def trier_dic(dic):\n",
    "    L = [[effectif,car] for car,effectif in dic.items()]\n",
    "    L_sorted = sorted(L, reverse=True)\n",
    "    return [[car,effectif] for effectif,car in L_sorted]"
   ]
  },
  {
   "cell_type": "code",
   "execution_count": 20,
   "metadata": {
    "scrolled": true
   },
   "outputs": [
    {
     "name": "stdout",
     "output_type": "stream",
     "text": [
      "Perceptron\n"
     ]
    },
    {
     "data": {
      "image/png": "[encoded data removed]",
      "text/plain": [
       "<Figure size 360x360 with 2 Axes>"
      ]
     },
     "metadata": {
      "needs_background": "light"
     },
     "output_type": "display_data"
    },
    {
     "name": "stdout",
     "output_type": "stream",
     "text": [
      "**************\n",
      "SVM\n"
     ]
    },
    {
     "data": {
      "image/png": "[encoded data removed]",
      "text/plain": [
       "<Figure size 360x360 with 2 Axes>"
      ]
     },
     "metadata": {
      "needs_background": "light"
     },
     "output_type": "display_data"
    },
    {
     "name": "stdout",
     "output_type": "stream",
     "text": [
      "**************\n",
      "Nearest Neighbors\n"
     ]
    },
    {
     "data": {
      "image/png": "[encoded data removed]",
      "text/plain": [
       "<Figure size 360x360 with 2 Axes>"
      ]
     },
     "metadata": {
      "needs_background": "light"
     },
     "output_type": "display_data"
    },
    {
     "name": "stdout",
     "output_type": "stream",
     "text": [
      "**************\n",
      "Random Forest\n"
     ]
    },
    {
     "data": {
      "image/png": "[encoded data removed]",
      "text/plain": [
       "<Figure size 360x360 with 2 Axes>"
      ]
     },
     "metadata": {
      "needs_background": "light"
     },
     "output_type": "display_data"
    },
    {
     "name": "stdout",
     "output_type": "stream",
     "text": [
      "**************\n",
      "DecisionTree\n"
     ]
    },
    {
     "data": {
      "image/png": "[encoded data removed]",
      "text/plain": [
       "<Figure size 360x360 with 2 Axes>"
      ]
     },
     "metadata": {
      "needs_background": "light"
     },
     "output_type": "display_data"
    },
    {
     "name": "stdout",
     "output_type": "stream",
     "text": [
      "**************\n",
      "Voici l'ordre de classement des classifieurs [['Random Forest', 0.63], ['Perceptron', 0.63], ['DecisionTree', 0.62], ['SVM', 0.61], ['Nearest Neighbors', 0.47]]\n"
     ]
    }
   ],
   "source": [
    "#SEULEMENT SUR DIFFERENTS CLASSIFIEURS, AVEC MEME PRETRAITEMENTS\n",
    "X1, y, stopw = give_data(data_genre, \"label_fem\")\n",
    "V = CountVectorizer()\n",
    "X = V.fit_transform(X1)\n",
    "#faire varier taille test_size et en tirer graphiques\n",
    "X_train, X_test, y_train, y_test = train_test_split(X, y, test_size=0.3, random_state=0) \n",
    "dico_acc_g = {}\n",
    "\n",
    "for nom, classif in liste_classif:\n",
    "    classif.fit(X_train, y_train)\n",
    "    y_pred = classif.predict(X_test)\n",
    "    dico_acc_g[nom]=round(accuracy_score(y_test,y_pred),2)\n",
    "    print(nom)\n",
    "    fig, ax = plt.subplots(figsize=(5,5))\n",
    "    classes = [\"Masc\", \"Neutre\", \"Fem\", \"Ambigu\"] #vérifier comment savoir qui où\n",
    "    \n",
    "    matrice_confusion = confusion_matrix(y_test, y_pred, labels=classes)\n",
    "    sns.heatmap(matrice_confusion, cmap = plt.cm.Reds, \n",
    "                xticklabels=classes, yticklabels=classes, \n",
    "                annot=True, fmt =\"d\")\n",
    "\n",
    "    #nom_img = \"tweets_conf_matrix_%s.png\"%nom\n",
    "    plt.title(nom)\n",
    "    #plt.savefig(nom_img)\n",
    "    plt.show()\n",
    "    print(\"**************\")\n",
    "    \n",
    "dico_acc_g_trie = trier_dic(dico_acc_g)\n",
    "\n",
    "print(\"Voici l'ordre de classement des classifieurs\",dico_acc_g_trie)"
   ]
  },
  {
   "cell_type": "code",
   "execution_count": 9,
   "metadata": {},
   "outputs": [
    {
     "name": "stdout",
     "output_type": "stream",
     "text": [
      "CountVectorizer Perceptron\n",
      "              precision    recall  f1-score   support\n",
      "\n",
      "      Ambigu       0.00      0.00      0.00         3\n",
      "         Fem       0.45      0.62      0.52        37\n",
      "        Masc       0.66      0.64      0.65        80\n",
      "      Neutre       0.63      0.55      0.59        60\n",
      "\n",
      "    accuracy                           0.59       180\n",
      "   macro avg       0.44      0.45      0.44       180\n",
      "weighted avg       0.60      0.59      0.59       180\n",
      "\n",
      "CountVectorizer SVM\n",
      "              precision    recall  f1-score   support\n",
      "\n",
      "      Ambigu       0.00      0.00      0.00         3\n",
      "         Fem       0.45      0.27      0.34        37\n",
      "        Masc       0.60      0.64      0.62        80\n",
      "      Neutre       0.62      0.75      0.68        60\n",
      "\n",
      "    accuracy                           0.59       180\n",
      "   macro avg       0.42      0.41      0.41       180\n",
      "weighted avg       0.57      0.59      0.57       180\n",
      "\n",
      "CountVectorizer Nearest Neighbors\n",
      "              precision    recall  f1-score   support\n",
      "\n",
      "      Ambigu       0.00      0.00      0.00         3\n",
      "         Fem       0.27      0.41      0.33        37\n",
      "        Masc       0.64      0.47      0.55        80\n",
      "      Neutre       0.49      0.48      0.49        60\n",
      "\n",
      "    accuracy                           0.46       180\n",
      "   macro avg       0.35      0.34      0.34       180\n",
      "weighted avg       0.51      0.46      0.47       180\n",
      "\n",
      "CountVectorizer Random Forest\n",
      "              precision    recall  f1-score   support\n",
      "\n",
      "      Ambigu       0.00      0.00      0.00         3\n",
      "         Fem       0.53      0.43      0.48        37\n",
      "        Masc       0.68      0.74      0.71        80\n",
      "      Neutre       0.67      0.70      0.68        60\n",
      "\n",
      "    accuracy                           0.65       180\n",
      "   macro avg       0.47      0.47      0.47       180\n",
      "weighted avg       0.63      0.65      0.64       180\n",
      "\n",
      "CountVectorizer DecisionTree\n",
      "              precision    recall  f1-score   support\n",
      "\n",
      "      Ambigu       0.00      0.00      0.00         3\n",
      "         Fem       0.38      0.41      0.39        37\n",
      "        Masc       0.68      0.55      0.61        80\n",
      "      Neutre       0.57      0.70      0.63        60\n",
      "\n",
      "    accuracy                           0.56       180\n",
      "   macro avg       0.40      0.41      0.41       180\n",
      "weighted avg       0.57      0.56      0.56       180\n",
      "\n",
      "TFIDFVectorizer Perceptron\n",
      "              precision    recall  f1-score   support\n",
      "\n",
      "      Ambigu       0.00      0.00      0.00         3\n",
      "         Fem       0.59      0.51      0.55        37\n",
      "        Masc       0.65      0.64      0.64        80\n",
      "      Neutre       0.59      0.67      0.62        60\n",
      "\n",
      "    accuracy                           0.61       180\n",
      "   macro avg       0.46      0.45      0.45       180\n",
      "weighted avg       0.61      0.61      0.61       180\n",
      "\n",
      "TFIDFVectorizer SVM\n",
      "              precision    recall  f1-score   support\n",
      "\n",
      "      Ambigu       0.00      0.00      0.00         3\n",
      "         Fem       0.68      0.46      0.55        37\n",
      "        Masc       0.66      0.74      0.69        80\n",
      "      Neutre       0.57      0.62      0.59        60\n",
      "\n",
      "    accuracy                           0.63       180\n",
      "   macro avg       0.48      0.45      0.46       180\n",
      "weighted avg       0.62      0.63      0.62       180\n",
      "\n",
      "TFIDFVectorizer Nearest Neighbors\n",
      "              precision    recall  f1-score   support\n",
      "\n",
      "      Ambigu       0.00      0.00      0.00         3\n",
      "         Fem       0.34      0.65      0.45        37\n",
      "        Masc       0.62      0.56      0.59        80\n",
      "      Neutre       0.51      0.32      0.39        60\n",
      "\n",
      "    accuracy                           0.49       180\n",
      "   macro avg       0.37      0.38      0.36       180\n",
      "weighted avg       0.52      0.49      0.48       180\n",
      "\n",
      "TFIDFVectorizer Random Forest\n",
      "              precision    recall  f1-score   support\n",
      "\n",
      "      Ambigu       0.00      0.00      0.00         3\n",
      "         Fem       0.60      0.41      0.48        37\n",
      "        Masc       0.66      0.70      0.68        80\n",
      "      Neutre       0.63      0.73      0.68        60\n",
      "\n",
      "    accuracy                           0.64       180\n",
      "   macro avg       0.47      0.46      0.46       180\n",
      "weighted avg       0.63      0.64      0.63       180\n",
      "\n",
      "TFIDFVectorizer DecisionTree\n",
      "              precision    recall  f1-score   support\n",
      "\n",
      "      Ambigu       0.00      0.00      0.00         3\n",
      "         Fem       0.53      0.49      0.51        37\n",
      "        Masc       0.59      0.45      0.51        80\n",
      "      Neutre       0.49      0.67      0.57        60\n",
      "\n",
      "    accuracy                           0.52       180\n",
      "   macro avg       0.40      0.40      0.40       180\n",
      "weighted avg       0.54      0.52      0.52       180\n",
      "\n",
      "Voici l'ordre de classement des classifieurs [['CountVectorizer Random Forest', 0.65], ['TFIDFVectorizer Random Forest', 0.64], ['TFIDFVectorizer SVM', 0.63], ['TFIDFVectorizer Perceptron', 0.61], ['CountVectorizer SVM', 0.59], ['CountVectorizer Perceptron', 0.59], ['CountVectorizer DecisionTree', 0.56], ['TFIDFVectorizer DecisionTree', 0.52], ['TFIDFVectorizer Nearest Neighbors', 0.49], ['CountVectorizer Nearest Neighbors', 0.46]]\n"
     ]
    }
   ],
   "source": [
    "#SUR DIFFERENTS VECTORISEURS, SUR DIFFERENTS CLASSIFIEURS, AVEC MEME PRETRAITEMENTS\n",
    "X1, y, stopw = give_data(data_genre, \"label_nofem\")\n",
    "dico_acc_g = {}\n",
    "for nom_v, vectorizer in liste_vec:\n",
    "#     print(nom_v)\n",
    "    V = vectorizer\n",
    "    X = V.fit_transform(X1)\n",
    "    X_train, X_test, y_train, y_test = train_test_split(X, y, test_size=0.3, random_state=0) \n",
    "    for nom, classif in liste_classif:\n",
    "        classif.fit(X_train, y_train)\n",
    "        y_pred = classif.predict(X_test)\n",
    "        dico_acc_g[nom_v+\" \"+nom]=round(accuracy_score(y_test,y_pred),2)\n",
    "        print(nom_v, nom)\n",
    "        #print(confusion_matrix(y_test,y_pred))\n",
    "        print(classification_report(y_test,y_pred))\n",
    "        #print(\"**************\")\n",
    "    \n",
    "dico_acc_g_trie = trier_dic(dico_acc_g)\n",
    "\n",
    "print(\"Voici l'ordre de classement des classifieurs\",dico_acc_g_trie)"
   ]
  },
  {
   "cell_type": "code",
   "execution_count": 10,
   "metadata": {},
   "outputs": [
    {
     "name": "stdout",
     "output_type": "stream",
     "text": [
      "Perceptron\n"
     ]
    },
    {
     "data": {
      "image/png": "[encoded data removed]",
      "text/plain": [
       "<Figure size 360x360 with 2 Axes>"
      ]
     },
     "metadata": {
      "needs_background": "light"
     },
     "output_type": "display_data"
    },
    {
     "name": "stdout",
     "output_type": "stream",
     "text": [
      "**************\n",
      "SVM\n"
     ]
    },
    {
     "data": {
      "image/png": "[encoded data removed]",
      "text/plain": [
       "<Figure size 360x360 with 2 Axes>"
      ]
     },
     "metadata": {
      "needs_background": "light"
     },
     "output_type": "display_data"
    },
    {
     "name": "stdout",
     "output_type": "stream",
     "text": [
      "**************\n",
      "Nearest Neighbors\n"
     ]
    },
    {
     "data": {
      "image/png": "[encoded data removed]",
      "text/plain": [
       "<Figure size 360x360 with 2 Axes>"
      ]
     },
     "metadata": {
      "needs_background": "light"
     },
     "output_type": "display_data"
    },
    {
     "name": "stdout",
     "output_type": "stream",
     "text": [
      "**************\n",
      "Random Forest\n"
     ]
    },
    {
     "data": {
      "image/png": "[encoded data removed]",
      "text/plain": [
       "<Figure size 360x360 with 2 Axes>"
      ]
     },
     "metadata": {
      "needs_background": "light"
     },
     "output_type": "display_data"
    },
    {
     "name": "stdout",
     "output_type": "stream",
     "text": [
      "**************\n",
      "DecisionTree\n"
     ]
    },
    {
     "data": {
      "image/png": "[encoded data removed]",
      "text/plain": [
       "<Figure size 360x360 with 2 Axes>"
      ]
     },
     "metadata": {
      "needs_background": "light"
     },
     "output_type": "display_data"
    },
    {
     "name": "stdout",
     "output_type": "stream",
     "text": [
      "**************\n",
      "Voici l'ordre de classement des classifieurs [['Random Forest', 0.64], ['SVM', 0.59], ['Perceptron', 0.59], ['DecisionTree', 0.58], ['Nearest Neighbors', 0.46]]\n"
     ]
    }
   ],
   "source": [
    "#SEULEMENT SUR DIFFERENTS CLASSIFIEURS, AVEC MEME PRETRAITEMENTS\n",
    "X1, y, stopw = give_data(data_genre, \"label_nofem\")\n",
    "V = CountVectorizer()\n",
    "X = V.fit_transform(X1)\n",
    "#faire varier taille test_size et en tirer graphiques\n",
    "X_train, X_test, y_train, y_test = train_test_split(X, y, test_size=0.3, random_state=0) \n",
    "dico_acc_g = {}\n",
    "\n",
    "for nom, classif in liste_classif:\n",
    "    classif.fit(X_train, y_train)\n",
    "    y_pred = classif.predict(X_test)\n",
    "    dico_acc_g[nom]=round(accuracy_score(y_test,y_pred),2)\n",
    "    print(nom)\n",
    "    fig, ax = plt.subplots(figsize=(5,5))\n",
    "    matrice_confusion = confusion_matrix(y_test, y_pred,labels=classes)\n",
    "    sns.heatmap(matrice_confusion, cmap = plt.cm.Reds, \n",
    "                xticklabels=classes, yticklabels=classes, \n",
    "                annot=True, fmt =\"d\")\n",
    "\n",
    "    #nom_img = \"spam_conf_matrix_%s.png\"%nom\n",
    "    plt.title(nom)\n",
    "    #plt.savefig(nom_img)\n",
    "    plt.show()\n",
    "    print(\"**************\")\n",
    "    \n",
    "dico_acc_g_trie = trier_dic(dico_acc_g)\n",
    "\n",
    "print(\"Voici l'ordre de classement des classifieurs\",dico_acc_g_trie)"
   ]
  },
  {
   "cell_type": "markdown",
   "metadata": {},
   "source": [
    "On teste chaque prétraitement sur chaque classifieur"
   ]
  },
  {
   "cell_type": "code",
   "execution_count": 11,
   "metadata": {},
   "outputs": [
    {
     "name": "stdout",
     "output_type": "stream",
     "text": [
      "--- 2.391542911529541 seconds ---\n"
     ]
    }
   ],
   "source": [
    "#BOUCLE SUR PRETRAITEMENTS + CLASSIFIEURS \n",
    "#(tester individuellement chaque pré-traitement combiné à chaque classifieur)\n",
    "import time\n",
    "start_time = time.time()\n",
    "dico_acc = {}\n",
    "\n",
    "for nom_param, vec in liste_param:\n",
    "    #préciser quel jeu de données sinon va le redemander à chaque itération\n",
    "    X1, y; stopw = give_data(data_genre, \"label_nofem\")\n",
    "    X = V.fit_transform(X1)\n",
    "    X_train, X_test, y_train, y_test = train_test_split(X, y, test_size=0.3, random_state=0) \n",
    "\n",
    "    for nom, classif in liste_classif:\n",
    "        classif.fit(X_train, y_train)\n",
    "        y_pred = classif.predict(X_test)\n",
    "        dico_acc[nom+\" / \"+nom_param]=round(accuracy_score(y_test,y_pred),2)\n",
    "        \n",
    "print(\"--- %s seconds ---\" % (time.time() - start_time))"
   ]
  },
  {
   "cell_type": "code",
   "execution_count": 12,
   "metadata": {},
   "outputs": [
    {
     "name": "stdout",
     "output_type": "stream",
     "text": [
      "LES 5 MEILLEURS : \n",
      "Random Forest / sans stop_words 0.67\n",
      "Random Forest / par caractère 0.67\n",
      "Random Forest / avec 500 mots 0.67\n",
      "Random Forest / avec 1000 mots 0.67\n",
      "Random Forest / avec bigrammes 0.64\n",
      "\n",
      "LES 5 PIRES : \n",
      "Nearest Neighbors / par caractère 0.46\n",
      "Nearest Neighbors / avec bigrammes 0.46\n",
      "Nearest Neighbors / avec 500 mots 0.46\n",
      "Nearest Neighbors / avec 2000 mots 0.46\n",
      "Nearest Neighbors / avec 1000 mots 0.46\n"
     ]
    }
   ],
   "source": [
    "#pour extraire seulement les meilleurs et les pires scores (plus lisible)\n",
    "dico_acc_trie = trier_dic(dico_acc)\n",
    "\n",
    "print(\"Les 5 meilleurs : \".upper())\n",
    "for parametres, score in dico_acc_trie[:5]:\n",
    "    print(parametres, score)\n",
    "   \n",
    "print(\"\\nLes 5 pires : \".upper())\n",
    "for parametres, score in dico_acc_trie[-5:]:\n",
    "    print(parametres, score)  "
   ]
  },
  {
   "cell_type": "markdown",
   "metadata": {},
   "source": [
    "On combine plusieurs pré-traitements sur chaque classifieur"
   ]
  },
  {
   "cell_type": "code",
   "execution_count": 13,
   "metadata": {
    "scrolled": true
   },
   "outputs": [
    {
     "ename": "InvalidParameterError",
     "evalue": "The 'stop_words' parameter of TfidfVectorizer must be a str among {'english'}, an instance of 'list' or None. Got {'auras', 'une', 'soient', 'ayons', 'soit', 'ayants', 'tes', 'un', 'as', 'tu', 'étant', 'moi', 'est', 'eussions', 'dans', 'ne', 'aie', 'j', 'étais', 'étions', 'eues', 'auriez', 'leur', 'aurons', 'mais', 'pas', 'on', 'aurais', 'avec', 'et', 's', 'te', 't', 'ai', 'aura', 'vous', 'aurez', 'eûmes', 'étantes', 'ont', 'eusses', 'au', 'son', 'fussent', 'étaient', 'auront', 'été', 'mon', 'serai', 'aient', 'ayantes', 'fut', 'suis', 'étants', 'aurions', 'sommes', 'fus', 'serez', 'nous', 'ma', 'aurai', 'seraient', 'aies', 'auraient', 'du', 'sois', 'seriez', 'aviez', 'ton', 'à', 'la', 'fûmes', 'ayant', 'eux', 'serait', 'ta', 'ou', 'c', 'lui', 'elle', 'fussions', 'soyons', 'avais', 'qu', 'l', 'mes', 'ce', 'ces', 'les', 'eut', 'fusse', 'avaient', 'avez', 'eurent', 'soyez', 'étiez', 'sa', 'sera', 'sont', 'serions', 'vos', 'n', 'eûtes', 'étées', 'avions', 'furent', 'aurait', 'fussiez', 'en', 'étés', 'serons', 'eue', 'nos', 'y', 'seront', 'fusses', 'eussiez', 'êtes', 'des', 'eussent', 'même', 'serais', 'ses', 'fût', 'ayante', 'ait', 'pour', 'seras', 'il', 'le', 'eusse', 'ayez', 'fûtes', 'me', 'notre', 'de', 'votre', 'es', 'était', 'aux', 'étée', 'je', 'sur', 'avait', 'ils', 'étante', 'm', 'eût', 'qui', 'toi', 'par', 'eus', 'se', 'que', 'avons', 'd', 'eu'} instead.",
     "output_type": "error",
     "traceback": [
      "\u001b[0;31m---------------------------------------------------------------------------\u001b[0m",
      "\u001b[0;31mInvalidParameterError\u001b[0m                     Traceback (most recent call last)",
      "Input \u001b[0;32mIn [13]\u001b[0m, in \u001b[0;36m<cell line: 27>\u001b[0;34m()\u001b[0m\n\u001b[1;32m     30\u001b[0m X \u001b[38;5;241m=\u001b[39m data_genre[\u001b[38;5;124m\"\u001b[39m\u001b[38;5;124moutput\u001b[39m\u001b[38;5;124m\"\u001b[39m]\n\u001b[1;32m     31\u001b[0m y \u001b[38;5;241m=\u001b[39m data_genre[\u001b[38;5;124m\"\u001b[39m\u001b[38;5;124mlabel_nofem\u001b[39m\u001b[38;5;124m\"\u001b[39m]\n\u001b[0;32m---> 32\u001b[0m X \u001b[38;5;241m=\u001b[39m \u001b[43mV\u001b[49m\u001b[38;5;241;43m.\u001b[39;49m\u001b[43mfit_transform\u001b[49m\u001b[43m(\u001b[49m\u001b[43mX\u001b[49m\u001b[43m)\u001b[49m\n\u001b[1;32m     33\u001b[0m X_train, X_test, y_train, y_test \u001b[38;5;241m=\u001b[39m train_test_split(X, y, test_size\u001b[38;5;241m=\u001b[39m\u001b[38;5;241m0.3\u001b[39m, random_state\u001b[38;5;241m=\u001b[39m\u001b[38;5;241m0\u001b[39m) \n\u001b[1;32m     34\u001b[0m \u001b[38;5;28;01mfor\u001b[39;00m nom_c, classif \u001b[38;5;129;01min\u001b[39;00m liste_classif:\n",
      "File \u001b[0;32m~/anaconda3/envs/main/lib/python3.10/site-packages/sklearn/feature_extraction/text.py:2133\u001b[0m, in \u001b[0;36mTfidfVectorizer.fit_transform\u001b[0;34m(self, raw_documents, y)\u001b[0m\n\u001b[1;32m   2126\u001b[0m \u001b[38;5;28mself\u001b[39m\u001b[38;5;241m.\u001b[39m_check_params()\n\u001b[1;32m   2127\u001b[0m \u001b[38;5;28mself\u001b[39m\u001b[38;5;241m.\u001b[39m_tfidf \u001b[38;5;241m=\u001b[39m TfidfTransformer(\n\u001b[1;32m   2128\u001b[0m     norm\u001b[38;5;241m=\u001b[39m\u001b[38;5;28mself\u001b[39m\u001b[38;5;241m.\u001b[39mnorm,\n\u001b[1;32m   2129\u001b[0m     use_idf\u001b[38;5;241m=\u001b[39m\u001b[38;5;28mself\u001b[39m\u001b[38;5;241m.\u001b[39muse_idf,\n\u001b[1;32m   2130\u001b[0m     smooth_idf\u001b[38;5;241m=\u001b[39m\u001b[38;5;28mself\u001b[39m\u001b[38;5;241m.\u001b[39msmooth_idf,\n\u001b[1;32m   2131\u001b[0m     sublinear_tf\u001b[38;5;241m=\u001b[39m\u001b[38;5;28mself\u001b[39m\u001b[38;5;241m.\u001b[39msublinear_tf,\n\u001b[1;32m   2132\u001b[0m )\n\u001b[0;32m-> 2133\u001b[0m X \u001b[38;5;241m=\u001b[39m \u001b[38;5;28;43msuper\u001b[39;49m\u001b[43m(\u001b[49m\u001b[43m)\u001b[49m\u001b[38;5;241;43m.\u001b[39;49m\u001b[43mfit_transform\u001b[49m\u001b[43m(\u001b[49m\u001b[43mraw_documents\u001b[49m\u001b[43m)\u001b[49m\n\u001b[1;32m   2134\u001b[0m \u001b[38;5;28mself\u001b[39m\u001b[38;5;241m.\u001b[39m_tfidf\u001b[38;5;241m.\u001b[39mfit(X)\n\u001b[1;32m   2135\u001b[0m \u001b[38;5;66;03m# X is already a transformed view of raw_documents so\u001b[39;00m\n\u001b[1;32m   2136\u001b[0m \u001b[38;5;66;03m# we set copy to False\u001b[39;00m\n",
      "File \u001b[0;32m~/anaconda3/envs/main/lib/python3.10/site-packages/sklearn/feature_extraction/text.py:1369\u001b[0m, in \u001b[0;36mCountVectorizer.fit_transform\u001b[0;34m(self, raw_documents, y)\u001b[0m\n\u001b[1;32m   1364\u001b[0m \u001b[38;5;28;01mif\u001b[39;00m \u001b[38;5;28misinstance\u001b[39m(raw_documents, \u001b[38;5;28mstr\u001b[39m):\n\u001b[1;32m   1365\u001b[0m     \u001b[38;5;28;01mraise\u001b[39;00m \u001b[38;5;167;01mValueError\u001b[39;00m(\n\u001b[1;32m   1366\u001b[0m         \u001b[38;5;124m\"\u001b[39m\u001b[38;5;124mIterable over raw text documents expected, string object received.\u001b[39m\u001b[38;5;124m\"\u001b[39m\n\u001b[1;32m   1367\u001b[0m     )\n\u001b[0;32m-> 1369\u001b[0m \u001b[38;5;28;43mself\u001b[39;49m\u001b[38;5;241;43m.\u001b[39;49m\u001b[43m_validate_params\u001b[49m\u001b[43m(\u001b[49m\u001b[43m)\u001b[49m\n\u001b[1;32m   1370\u001b[0m \u001b[38;5;28mself\u001b[39m\u001b[38;5;241m.\u001b[39m_validate_ngram_range()\n\u001b[1;32m   1371\u001b[0m \u001b[38;5;28mself\u001b[39m\u001b[38;5;241m.\u001b[39m_warn_for_unused_params()\n",
      "File \u001b[0;32m~/anaconda3/envs/main/lib/python3.10/site-packages/sklearn/base.py:600\u001b[0m, in \u001b[0;36mBaseEstimator._validate_params\u001b[0;34m(self)\u001b[0m\n\u001b[1;32m    592\u001b[0m \u001b[38;5;28;01mdef\u001b[39;00m \u001b[38;5;21m_validate_params\u001b[39m(\u001b[38;5;28mself\u001b[39m):\n\u001b[1;32m    593\u001b[0m     \u001b[38;5;124;03m\"\"\"Validate types and values of constructor parameters\u001b[39;00m\n\u001b[1;32m    594\u001b[0m \n\u001b[1;32m    595\u001b[0m \u001b[38;5;124;03m    The expected type and values must be defined in the `_parameter_constraints`\u001b[39;00m\n\u001b[0;32m   (...)\u001b[0m\n\u001b[1;32m    598\u001b[0m \u001b[38;5;124;03m    accepted constraints.\u001b[39;00m\n\u001b[1;32m    599\u001b[0m \u001b[38;5;124;03m    \"\"\"\u001b[39;00m\n\u001b[0;32m--> 600\u001b[0m     \u001b[43mvalidate_parameter_constraints\u001b[49m\u001b[43m(\u001b[49m\n\u001b[1;32m    601\u001b[0m \u001b[43m        \u001b[49m\u001b[38;5;28;43mself\u001b[39;49m\u001b[38;5;241;43m.\u001b[39;49m\u001b[43m_parameter_constraints\u001b[49m\u001b[43m,\u001b[49m\n\u001b[1;32m    602\u001b[0m \u001b[43m        \u001b[49m\u001b[38;5;28;43mself\u001b[39;49m\u001b[38;5;241;43m.\u001b[39;49m\u001b[43mget_params\u001b[49m\u001b[43m(\u001b[49m\u001b[43mdeep\u001b[49m\u001b[38;5;241;43m=\u001b[39;49m\u001b[38;5;28;43;01mFalse\u001b[39;49;00m\u001b[43m)\u001b[49m\u001b[43m,\u001b[49m\n\u001b[1;32m    603\u001b[0m \u001b[43m        \u001b[49m\u001b[43mcaller_name\u001b[49m\u001b[38;5;241;43m=\u001b[39;49m\u001b[38;5;28;43mself\u001b[39;49m\u001b[38;5;241;43m.\u001b[39;49m\u001b[38;5;18;43m__class__\u001b[39;49m\u001b[38;5;241;43m.\u001b[39;49m\u001b[38;5;18;43m__name__\u001b[39;49m\u001b[43m,\u001b[49m\n\u001b[1;32m    604\u001b[0m \u001b[43m    \u001b[49m\u001b[43m)\u001b[49m\n",
      "File \u001b[0;32m~/anaconda3/envs/main/lib/python3.10/site-packages/sklearn/utils/_param_validation.py:97\u001b[0m, in \u001b[0;36mvalidate_parameter_constraints\u001b[0;34m(parameter_constraints, params, caller_name)\u001b[0m\n\u001b[1;32m     91\u001b[0m \u001b[38;5;28;01melse\u001b[39;00m:\n\u001b[1;32m     92\u001b[0m     constraints_str \u001b[38;5;241m=\u001b[39m (\n\u001b[1;32m     93\u001b[0m         \u001b[38;5;124mf\u001b[39m\u001b[38;5;124m\"\u001b[39m\u001b[38;5;132;01m{\u001b[39;00m\u001b[38;5;124m'\u001b[39m\u001b[38;5;124m, \u001b[39m\u001b[38;5;124m'\u001b[39m\u001b[38;5;241m.\u001b[39mjoin([\u001b[38;5;28mstr\u001b[39m(c) \u001b[38;5;28;01mfor\u001b[39;00m c \u001b[38;5;129;01min\u001b[39;00m constraints[:\u001b[38;5;241m-\u001b[39m\u001b[38;5;241m1\u001b[39m]])\u001b[38;5;132;01m}\u001b[39;00m\u001b[38;5;124m or\u001b[39m\u001b[38;5;124m\"\u001b[39m\n\u001b[1;32m     94\u001b[0m         \u001b[38;5;124mf\u001b[39m\u001b[38;5;124m\"\u001b[39m\u001b[38;5;124m \u001b[39m\u001b[38;5;132;01m{\u001b[39;00mconstraints[\u001b[38;5;241m-\u001b[39m\u001b[38;5;241m1\u001b[39m]\u001b[38;5;132;01m}\u001b[39;00m\u001b[38;5;124m\"\u001b[39m\n\u001b[1;32m     95\u001b[0m     )\n\u001b[0;32m---> 97\u001b[0m \u001b[38;5;28;01mraise\u001b[39;00m InvalidParameterError(\n\u001b[1;32m     98\u001b[0m     \u001b[38;5;124mf\u001b[39m\u001b[38;5;124m\"\u001b[39m\u001b[38;5;124mThe \u001b[39m\u001b[38;5;132;01m{\u001b[39;00mparam_name\u001b[38;5;132;01m!r}\u001b[39;00m\u001b[38;5;124m parameter of \u001b[39m\u001b[38;5;132;01m{\u001b[39;00mcaller_name\u001b[38;5;132;01m}\u001b[39;00m\u001b[38;5;124m must be\u001b[39m\u001b[38;5;124m\"\u001b[39m\n\u001b[1;32m     99\u001b[0m     \u001b[38;5;124mf\u001b[39m\u001b[38;5;124m\"\u001b[39m\u001b[38;5;124m \u001b[39m\u001b[38;5;132;01m{\u001b[39;00mconstraints_str\u001b[38;5;132;01m}\u001b[39;00m\u001b[38;5;124m. Got \u001b[39m\u001b[38;5;132;01m{\u001b[39;00mparam_val\u001b[38;5;132;01m!r}\u001b[39;00m\u001b[38;5;124m instead.\u001b[39m\u001b[38;5;124m\"\u001b[39m\n\u001b[1;32m    100\u001b[0m )\n",
      "\u001b[0;31mInvalidParameterError\u001b[0m: The 'stop_words' parameter of TfidfVectorizer must be a str among {'english'}, an instance of 'list' or None. Got {'auras', 'une', 'soient', 'ayons', 'soit', 'ayants', 'tes', 'un', 'as', 'tu', 'étant', 'moi', 'est', 'eussions', 'dans', 'ne', 'aie', 'j', 'étais', 'étions', 'eues', 'auriez', 'leur', 'aurons', 'mais', 'pas', 'on', 'aurais', 'avec', 'et', 's', 'te', 't', 'ai', 'aura', 'vous', 'aurez', 'eûmes', 'étantes', 'ont', 'eusses', 'au', 'son', 'fussent', 'étaient', 'auront', 'été', 'mon', 'serai', 'aient', 'ayantes', 'fut', 'suis', 'étants', 'aurions', 'sommes', 'fus', 'serez', 'nous', 'ma', 'aurai', 'seraient', 'aies', 'auraient', 'du', 'sois', 'seriez', 'aviez', 'ton', 'à', 'la', 'fûmes', 'ayant', 'eux', 'serait', 'ta', 'ou', 'c', 'lui', 'elle', 'fussions', 'soyons', 'avais', 'qu', 'l', 'mes', 'ce', 'ces', 'les', 'eut', 'fusse', 'avaient', 'avez', 'eurent', 'soyez', 'étiez', 'sa', 'sera', 'sont', 'serions', 'vos', 'n', 'eûtes', 'étées', 'avions', 'furent', 'aurait', 'fussiez', 'en', 'étés', 'serons', 'eue', 'nos', 'y', 'seront', 'fusses', 'eussiez', 'êtes', 'des', 'eussent', 'même', 'serais', 'ses', 'fût', 'ayante', 'ait', 'pour', 'seras', 'il', 'le', 'eusse', 'ayez', 'fûtes', 'me', 'notre', 'de', 'votre', 'es', 'était', 'aux', 'étée', 'je', 'sur', 'avait', 'ils', 'étante', 'm', 'eût', 'qui', 'toi', 'par', 'eus', 'se', 'que', 'avons', 'd', 'eu'} instead."
     ]
    }
   ],
   "source": [
    "#BOUCLE POUR AVOIR DIFFERENTS CLASSIFIEURS ET POUR CHACUN, COMBINAISON DE N-GRAMMES + 1 AUTRE PRETRAITEMENT (ou 2)\n",
    "import time\n",
    "start_time = time.time()\n",
    "#dico json forme {nom_classif_param : {y_test:vlr, y_pred:vlr}}\n",
    "# X1,y,stopw = choix_data(1)\n",
    "stopw = set(stopwords.words('french'))\n",
    "dico_json = {}\n",
    "liste_vectorizer = []\n",
    "liste_vectorizer_1000 = []\n",
    "liste_vectorizer_stop = []\n",
    "liste_vectorizer_all = []\n",
    "liste_v = [[\"sans pré-traitements\",liste_vectorizer],\n",
    "           [\"seulement les 1000 mots les plus fréquents\",liste_vectorizer_1000],\n",
    "           [\"sans stopwords\",liste_vectorizer_stop],\n",
    "           [\"seulement 1000 mots et sans stopwords\", liste_vectorizer_all]]\n",
    "\n",
    "for analyzer in [\"word\", \"char\"]:\n",
    "    a = analyzer\n",
    "    for n in range(10):\n",
    "        nom = a+\" \"+str(n)\n",
    "        liste_vectorizer.append([nom, TfidfVectorizer(analyzer=a, ngram_range=(n,n))])\n",
    "        liste_vectorizer_1000.append([nom, TfidfVectorizer(analyzer=a, ngram_range=(n,n), max_features=1000)])\n",
    "        liste_vectorizer_stop.append([nom, TfidfVectorizer(analyzer=a, ngram_range=(n,n), stop_words=stopw)])\n",
    "        liste_vectorizer_all.append([nom, TfidfVectorizer(analyzer=a, ngram_range=(n,n), max_features=1000, stop_words=stopw)])\n",
    "\n",
    "dico_acc2 = {}\n",
    "for nom_l, liste in liste_v :\n",
    "    for nom_param, vec in liste:\n",
    "        V = vec\n",
    "        X = data_genre[\"output\"]\n",
    "        y = data_genre[\"label_nofem\"]\n",
    "        X = V.fit_transform(X)\n",
    "        X_train, X_test, y_train, y_test = train_test_split(X, y, test_size=0.3, random_state=0) \n",
    "        for nom_c, classif in liste_classif:\n",
    "            classif.fit(X_train, y_train)\n",
    "            y_pred = classif.predict(X_test)\n",
    "            dico_acc2[nom_c+\" / \"+nom_l+\" / \"+nom_param]=\"%.2f\"%accuracy_score(y_test,y_pred)\n",
    "        dico_json[nom_c+\" / \"+nom_l+\" / \"+nom_param]={}\n",
    "        dico_json[nom_c+\" / \"+nom_l+\" / \"+nom_param][\"y_test\"]=y_test\n",
    "        dico_json[nom_c+\" / \"+nom_l+\" / \"+nom_param][\"y_pred\"]=y_pred\n",
    "\n",
    "print(\"--- %s seconds ---\" % (time.time() - start_time))"
   ]
  },
  {
   "cell_type": "code",
   "execution_count": 14,
   "metadata": {
    "scrolled": true
   },
   "outputs": [
    {
     "name": "stdout",
     "output_type": "stream",
     "text": [
      "LES 10 MEILLEURS : \n",
      "Random Forest / seulement les 1000 mots les plus fréquents / word 1 0.65\n",
      "Random Forest / seulement les 1000 mots les plus fréquents / char 4 0.64\n",
      "DecisionTree / sans pré-traitements / char 7 0.64\n",
      "SVM / seulement les 1000 mots les plus fréquents / word 2 0.63\n",
      "SVM / seulement les 1000 mots les plus fréquents / word 1 0.63\n",
      "SVM / sans pré-traitements / word 1 0.63\n",
      "Random Forest / seulement les 1000 mots les plus fréquents / word 2 0.63\n",
      "Random Forest / sans pré-traitements / word 1 0.63\n",
      "Random Forest / sans pré-traitements / char 7 0.63\n",
      "Perceptron / seulement les 1000 mots les plus fréquents / word 1 0.63\n",
      "\n",
      "LES 10 PIRES : \n",
      "Nearest Neighbors / seulement les 1000 mots les plus fréquents / word 4 0.33\n",
      "Nearest Neighbors / sans pré-traitements / word 8 0.33\n",
      "Nearest Neighbors / sans pré-traitements / word 7 0.33\n",
      "Nearest Neighbors / seulement les 1000 mots les plus fréquents / word 7 0.32\n",
      "Nearest Neighbors / sans pré-traitements / word 6 0.32\n",
      "Nearest Neighbors / seulement les 1000 mots les plus fréquents / word 8 0.31\n",
      "Nearest Neighbors / seulement les 1000 mots les plus fréquents / word 6 0.31\n",
      "Nearest Neighbors / seulement les 1000 mots les plus fréquents / word 5 0.31\n",
      "Nearest Neighbors / sans pré-traitements / word 9 0.31\n",
      "Nearest Neighbors / seulement les 1000 mots les plus fréquents / word 9 0.29\n"
     ]
    }
   ],
   "source": [
    "#pour extraire seulement les meilleurs et les pires scores (plus lisible)\n",
    "dico_acc2_trie = trier_dic(dico_acc2)\n",
    "\n",
    "#meilleur affichage : \n",
    "print(\"Les 10 meilleurs : \".upper())\n",
    "for parametres, score in dico_acc2_trie[:10]:\n",
    "    print(parametres, score)\n",
    "   \n",
    "print(\"\\nLes 10 pires : \".upper())\n",
    "for parametres, score in dico_acc2_trie[-10:]:\n",
    "    print(parametres, score)  \n",
    "    \n",
    "#Comme ça prend du temps d'obtenir tous ces résultats, on sauvegarde tous les accuracy_score obtenus dans un json\n",
    "# w = open(\"accuracy_allclassif_tweets_tfidf.json\", \"w\", encoding=\"utf-8\")\n",
    "# w.write(json.dumps(dico_acc2_trie, indent=2, ensure_ascii=False))\n",
    "# w.close()"
   ]
  },
  {
   "cell_type": "code",
   "execution_count": 17,
   "metadata": {},
   "outputs": [],
   "source": [
    "#BOUCLE POUR AVOIR DIFFERENTS CLASSIFIEURS ET POUR CHACUN, COMBINAISON DE N-GRAMMES + 1 AUTRE PRETRAITEMENT (ou 2)\n",
    "#MAIS SEULEMENT SUR PERCEPTRON\n",
    "\n",
    "stopw = list(stopw)\n",
    "liste_vectorizer_p = []\n",
    "liste_vectorizer_1000_p = []\n",
    "liste_vectorizer_stop_p = []\n",
    "liste_vectorizer_all_p = []\n",
    "liste_v = [[\"sans pré-traitements\",liste_vectorizer_p],\n",
    "           [\"seulement les 1000 mots les plus fréquents\",liste_vectorizer_1000_p],\n",
    "           [\"sans stopwords\",liste_vectorizer_stop_p],\n",
    "           [\"seulement 1000 mots et sans stopwords\", liste_vectorizer_all_p]]\n",
    "\n",
    "for analyzer in [\"word\", \"char\"]:\n",
    "    a = analyzer\n",
    "    for n in range(1,10):\n",
    "        nom = a+\" \"+str(n)\n",
    "        liste_vectorizer_p.append([nom, CountVectorizer(analyzer=a, ngram_range=(n,n))])\n",
    "        liste_vectorizer_1000_p.append([nom, CountVectorizer(analyzer=a, ngram_range=(n,n), max_features=1000)])\n",
    "        liste_vectorizer_stop_p.append([nom, CountVectorizer(analyzer=a, ngram_range=(n,n), stop_words=stopw)])\n",
    "        liste_vectorizer_all_p.append([nom, CountVectorizer(analyzer=a, ngram_range=(n,n), max_features=1000, stop_words=stopw\n",
    "                                                           )])\n",
    "\n",
    "liste_classif_p = [[\"Perceptron\", Perceptron(eta0=0.1, random_state=0, early_stopping=True)]]\n",
    "dico_acc_p = {}\n",
    "for nom_l, liste in liste_v :\n",
    "    for nom_param, vec in liste:\n",
    "        V = vec\n",
    "        X = V.fit_transform(X1)\n",
    "        X_train, X_test, y_train, y_test = train_test_split(X, y, test_size=0.3, random_state=0) \n",
    "        for nom_c, classif in liste_classif_p:\n",
    "            classif.fit(X_train, y_train)\n",
    "            y_pred = classif.predict(X_test)\n",
    "            dico_acc_p[nom_c+\" / \"+nom_l+\" / \"+nom_param]=\"%.2f\"%accuracy_score(y_test,y_pred)"
   ]
  },
  {
   "cell_type": "code",
   "execution_count": 18,
   "metadata": {},
   "outputs": [
    {
     "name": "stdout",
     "output_type": "stream",
     "text": [
      "LES 10 MEILLEURS : \n",
      "Perceptron / sans pré-traitements / word 2 0.65\n",
      "Perceptron / sans stopwords / char 7 0.64\n",
      "Perceptron / sans pré-traitements / char 7 0.64\n",
      "Perceptron / seulement 1000 mots et sans stopwords / word 1 0.62\n",
      "Perceptron / sans stopwords / char 3 0.62\n",
      "Perceptron / sans pré-traitements / char 3 0.62\n",
      "Perceptron / seulement les 1000 mots les plus fréquents / char 8 0.59\n",
      "Perceptron / seulement 1000 mots et sans stopwords / char 8 0.59\n",
      "Perceptron / sans stopwords / char 5 0.58\n",
      "Perceptron / sans pré-traitements / char 5 0.58\n",
      "\n",
      "LES 10 PIRES : \n",
      "Perceptron / seulement 1000 mots et sans stopwords / word 7 0.36\n",
      "Perceptron / sans stopwords / word 6 0.36\n",
      "Perceptron / sans pré-traitements / word 9 0.36\n",
      "Perceptron / seulement les 1000 mots les plus fréquents / word 7 0.35\n",
      "Perceptron / seulement 1000 mots et sans stopwords / word 5 0.35\n",
      "Perceptron / seulement 1000 mots et sans stopwords / word 8 0.34\n",
      "Perceptron / seulement 1000 mots et sans stopwords / word 4 0.34\n",
      "Perceptron / sans stopwords / word 5 0.33\n",
      "Perceptron / sans stopwords / word 8 0.30\n",
      "Perceptron / sans stopwords / word 9 0.29\n"
     ]
    }
   ],
   "source": [
    "#pour extraire seulement les meilleurs et les pires scores (plus lisible)\n",
    "dico_acc_p_trie = trier_dic(dico_acc_p)\n",
    "\n",
    "#meilleur affichage : \n",
    "print(\"Les 10 meilleurs : \".upper())\n",
    "for parametres, score in dico_acc_p_trie[:10]:\n",
    "    print(parametres, score)\n",
    "   \n",
    "print(\"\\nLes 10 pires : \".upper())\n",
    "for parametres, score in dico_acc_p_trie[-10:]:\n",
    "    print(parametres, score)  "
   ]
  },
  {
   "cell_type": "markdown",
   "metadata": {},
   "source": [
    "Maintenant qu'on a trouvé le meilleur classifieur et les meilleurs param on fait d'autres tests : équilibrer les classes (pour spamham), faire varier test_size"
   ]
  },
  {
   "cell_type": "code",
   "execution_count": 4,
   "metadata": {},
   "outputs": [
    {
     "name": "stdout",
     "output_type": "stream",
     "text": [
      "Bons résultats 870\n",
      "Erreurs: 30\n",
      "              precision    recall  f1-score   support\n",
      "\n",
      "         ham       0.95      0.98      0.97       449\n",
      "        spam       0.98      0.95      0.97       451\n",
      "\n",
      "   micro avg       0.97      0.97      0.97       900\n",
      "   macro avg       0.97      0.97      0.97       900\n",
      "weighted avg       0.97      0.97      0.97       900\n",
      "\n",
      "0.97\n"
     ]
    }
   ],
   "source": [
    "#classifier en essayant d'équilibrer les classes pour voir la différence\n",
    "\n",
    "X = data_spam[\"text\"][:3000]\n",
    "y = data_spam[\"spam\"][:3000]\n",
    "\n",
    "#from sklearn.feature_extraction.text import CountVectorizer\n",
    "V = CountVectorizer(ngram_range = (2,2))\n",
    "\n",
    "X = V.fit_transform(X)\n",
    "\n",
    "## séparer train test\n",
    "from sklearn.model_selection import train_test_split\n",
    "X_train, X_test, y_train, y_test = train_test_split(X, y, test_size=0.3, random_state=0)\n",
    "#from sklearn.linear_model import Perceptron\n",
    "\n",
    "from sklearn.linear_model import Perceptron\n",
    "ppn = Perceptron(eta0=0.1, random_state=0)\n",
    "ppn.fit(X_train, y_train)\n",
    "y_pred = ppn.predict(X_test)\n",
    "\n",
    "# On fait la somme de tous les cas où la valeur dans y_test est bien trouvée dans y_pred\n",
    "print('Bons résultats %d' % (y_test == y_pred).sum())\n",
    "print('Erreurs: %d' % (y_test != y_pred).sum())\n",
    "nom_classes = [\"ham\",\"spam\"]\n",
    "report = classification_report(y_test, y_pred, target_names=nom_classes)\n",
    "print(report)\n",
    "from sklearn.metrics import accuracy_score\n",
    "print(round(accuracy_score(y_test,y_pred),2))"
   ]
  },
  {
   "cell_type": "code",
   "execution_count": 54,
   "metadata": {},
   "outputs": [
    {
     "name": "stdout",
     "output_type": "stream",
     "text": [
      "Test_size= 0.1  accuracy = 0.69\n",
      "Test_size= 0.2  accuracy = 0.72\n",
      "Test_size= 0.3  accuracy = 0.7\n",
      "Test_size= 0.4  accuracy = 0.65\n",
      "Test_size= 0.5  accuracy = 0.66\n",
      "Test_size= 0.6  accuracy = 0.67\n",
      "Test_size= 0.7  accuracy = 0.63\n",
      "Test_size= 0.8  accuracy = 0.61\n",
      "Test_size= 0.9  accuracy = 0.56\n"
     ]
    }
   ],
   "source": [
    "#tests faire varier test_size sur le meilleur classif avec les meilleurs paramètres : \n",
    "X1, y, stopw = give_data(data_genre, \"golden_gender_nonfem\")\n",
    "#V = TfidfVectorizer(analyzer=\"char\", ngram_range=(6,6), max_features=1000, stop_words=stopw)\n",
    "V = CountVectorizer(analyzer='word', ngram_range=(1,2))\n",
    "X = V.fit_transform(X1)\n",
    "\n",
    "## séparer train test\n",
    "X_plot = []\n",
    "for i in range(1,10):\n",
    "    X_train, X_test, y_train, y_test = train_test_split(X, y, test_size=i/10, random_state=0)\n",
    "\n",
    "    ppn = Perceptron(eta0=0.1, random_state=0)\n",
    "    ppn.fit(X_train, y_train)\n",
    "    y_pred = ppn.predict(X_test)\n",
    "    X_plot.append(accuracy_score(y_test,y_pred))\n",
    "    print(\"Test_size=\",i/10,\" accuracy =\",round(accuracy_score(y_test,y_pred),2))"
   ]
  },
  {
   "cell_type": "code",
   "execution_count": 50,
   "metadata": {},
   "outputs": [
    {
     "data": {
      "image/png": "[encoded data removed]",
      "text/plain": [
       "<Figure size 432x288 with 1 Axes>"
      ]
     },
     "metadata": {
      "needs_background": "light"
     },
     "output_type": "display_data"
    }
   ],
   "source": [
    "#graphique : accuracy_score selon test_size\n",
    "import numpy as np\n",
    "import matplotlib as mpl\n",
    "import matplotlib.pyplot as plt\n",
    "\n",
    "# Y_plot = np.cos(X_plot)\n",
    "Y_plot = [i/10 for i in range(1,10)]\n",
    "fig,ax = plt.subplots()\n",
    "ax.plot(Y_plot,X_plot,color=\"C1\")\n",
    "plt.axis(\"equal\")\n",
    "plt.title(\"Evolution de l'accuracy score selon la taille du jeu d'entraînement (tweets, ppn)\")\n",
    "# plt.savefig(\"accscore_testsize_tweets_zoom.png\")\n",
    "fig.show()"
   ]
  },
  {
   "cell_type": "code",
   "execution_count": 52,
   "metadata": {},
   "outputs": [
    {
     "name": "stdout",
     "output_type": "stream",
     "text": [
      "Test_size= 0.1  accuracy = 0.46\n",
      "Test_size= 0.2  accuracy = 0.5\n",
      "Test_size= 0.3  accuracy = 0.5\n",
      "Test_size= 0.4  accuracy = 0.48\n",
      "Test_size= 0.5  accuracy = 0.51\n",
      "Test_size= 0.6  accuracy = 0.54\n",
      "Test_size= 0.7  accuracy = 0.53\n",
      "Test_size= 0.8  accuracy = 0.52\n",
      "Test_size= 0.9  accuracy = 0.5\n",
      "0.5355450236966824\n"
     ]
    }
   ],
   "source": [
    "#tests faire varier test_size sur le meilleur classif avec les meilleurs paramètres : \n",
    "#pour le dataset tweets, c'est \"Random Forest / sans pré-traitements / char 5\"\n",
    "X1, y, stopw = give_data(data_genre, \"golden_gender_nonfem\")\n",
    "V = CountVectorizer(analyzer=\"char\")\n",
    "X = V.fit_transform(X1)\n",
    "\n",
    "## séparer train test\n",
    "X_plot = []\n",
    "for i in range(1,10):\n",
    "    X_train, X_test, y_train, y_test = train_test_split(X, y, test_size=i/10, random_state=0)\n",
    "\n",
    "    clf = RandomForestClassifier()\n",
    "    clf.fit(X_train, y_train)\n",
    "    y_pred = clf.predict(X_test)\n",
    "    X_plot.append(accuracy_score(y_test,y_pred))\n",
    "    print(\"Test_size=\",i/10,\" accuracy =\",round(accuracy_score(y_test,y_pred),2))\n",
    "#0.2 est le meilleur test_size\n",
    "    \n",
    "#autres tests en changeant des paramètres du RandomForest : nombre d'arbres\n",
    "X1, y, stopw = give_data(data_genre, \"golden_gender_nonfem\")\n",
    "V = TfidfVectorizer(analyzer=\"char\")\n",
    "X = V.fit_transform(X1)\n",
    "X_train, X_test, y_train, y_test = train_test_split(X, y, test_size=0.3, random_state=0)\n",
    "clf = RandomForestClassifier(n_estimators=50)\n",
    "clf.fit(X_train, y_train)\n",
    "y_pred = clf.predict(X_test)\n",
    "print(accuracy_score(y_test,y_pred))\n",
    "#50 arbres : 0.74, 500 : 74"
   ]
  },
  {
   "cell_type": "markdown",
   "metadata": {},
   "source": [
    "On continue les expériences sur les tweets pour essayer d'améliorer les scores : on essaye de pré-traiter les tweets \n",
    "- racinisation\n",
    "- lemmatisation\n",
    "- étiquettage morpho-syntaxique\n",
    "- prise en compte des mots à forte polarité\n",
    "- ajout d'un classifieur stylométrique"
   ]
  },
  {
   "cell_type": "code",
   "execution_count": 20,
   "metadata": {},
   "outputs": [
    {
     "name": "stdout",
     "output_type": "stream",
     "text": [
      "Voici l'ordre de classement des classifieurs [['Random Forest', 0.64], ['Perceptron', 0.62], ['SVM', 0.57], ['DecisionTree', 0.49], ['Nearest Neighbors', 0.44]]\n"
     ]
    }
   ],
   "source": [
    "#from nltk.tag import StanfordPOSTagger\n",
    "import os\n",
    "import pandas as pd\n",
    "import spacy\n",
    "#essayer lemmatisation\n",
    "\n",
    "#pour output type Someone/NN should/MD have/VB this/DT piece/NN of/IN shit/NN to/TO a/DT volcano/NN\n",
    "nlp = spacy.load(\"fr_core_news_md\")\n",
    "def pos_tagging(text):\n",
    "    doc = nlp(text)\n",
    "    new_text = []\n",
    "    for sent in doc.sents:\n",
    "        for token in sent:\n",
    "            new_text.append(token.text + \"/\" + token.pos_)\n",
    "    tagged_doc = ' '.join(new_text)\n",
    "    return tagged_doc\n",
    "\n",
    "data_genre['pos_text'] = data_genre['output'].apply(lambda x: pos_tagging(x))\n",
    "data_genre.head()\n",
    "\n",
    "X1 = data_genre[\"pos_text\"]\n",
    "y = data_genre[\"label_nofem\"]\n",
    "V = CountVectorizer()\n",
    "X = V.fit_transform(X1)\n",
    "#faire varier taille test_size et en tirer graphiques\n",
    "X_train, X_test, y_train, y_test = train_test_split(X, y, test_size=0.3, random_state=0) \n",
    "dico_acc_g = {}\n",
    "\n",
    "for nom, classif in liste_classif:\n",
    "    classif.fit(X_train, y_train)\n",
    "    y_pred = classif.predict(X_test)\n",
    "    dico_acc_g[nom]=round(accuracy_score(y_test,y_pred),2)\n",
    "    \n",
    "dico_acc_g_trie = trier_dic(dico_acc_g)\n",
    "\n",
    "print(\"Voici l'ordre de classement des classifieurs\",dico_acc_g_trie)"
   ]
  },
  {
   "cell_type": "code",
   "execution_count": 21,
   "metadata": {},
   "outputs": [
    {
     "name": "stdout",
     "output_type": "stream",
     "text": [
      "Voici l'ordre de classement des classifieurs [['Random Forest', 0.66], ['DecisionTree', 0.62], ['SVM', 0.54], ['Perceptron', 0.46], ['Nearest Neighbors', 0.42]]\n"
     ]
    }
   ],
   "source": [
    "#On essaye avec le classifieur lié à la stylométrie\n",
    "\n",
    "import statistics\n",
    "\n",
    "X_stylo = []#notre nouvele matrice de description\n",
    "for text in data_genre[\"output\"]:\n",
    "    liste_mots = text.split()\n",
    "    phrases = text.split(\". \")\n",
    "    NB_phrases = len(phrases)\n",
    "    NB_mots = len(liste_mots)\n",
    "    NB_caracteres = len(text)\n",
    "    moyenne_taille_mots = statistics.mean([len(x) for x in liste_mots])\n",
    "    moyenne_taille_phrases = NB_mots/NB_phrases\n",
    "    caracteristiques = [NB_phrases, NB_mots, NB_caracteres, moyenne_taille_mots, moyenne_taille_phrases]\n",
    "    X_stylo.append(caracteristiques)\n",
    "\n",
    "y = data_genre[\"label_nofem\"]\n",
    "X_train, X_test, y_train, y_test = train_test_split(X_stylo, y, test_size=0.3, random_state=0)\n",
    "DT = DecisionTreeClassifier()\n",
    "DT = DT.fit(X_train, y_train)\n",
    "y_pred = DT.predict(X_test)\n",
    "matrice_confusion = confusion_matrix(y_test, y_pred,labels=classes)\n",
    "# print(matrice_confusion)\n",
    "#stats = precision_recall_fscore_support(y_test, y_pred)\n",
    "# print(stats)\n",
    "#report = classification_report(y_test, y_pred, target_names=[\"tweets_negatifs\",\"tweets_positifs\"])\n",
    "# print(report)\n",
    "\n",
    "\n",
    "from sklearn.feature_extraction.text import CountVectorizer\n",
    "V = CountVectorizer(ngram_range = (5,5),analyzer=\"char\")\n",
    "X = V.fit_transform(data_genre[\"output\"])\n",
    "# print(X.shape[0])#NB lignes   -> instances\n",
    "# print(X.shape[1])#Nb colonnes -> caractéristiques\n",
    "\n",
    "##on crée une sparse matrix avec notre X_stylo\n",
    "from scipy.sparse import csr_matrix\n",
    "sparse_stylo = csr_matrix(X_stylo)\n",
    "# print(sparse_stylo.shape[0])#NB lignes   -> instances\n",
    "# print(sparse_stylo.shape[1])#Nb colonnes -> caractéristiques\n",
    "\n",
    "from scipy.sparse import hstack\n",
    "X_fusion = hstack((X, sparse_stylo))\n",
    "\n",
    "\n",
    "#SEULEMENT SUR DIFFERENTS CLASSIFIEURS, AVEC MEME PRETRAITEMENTS\n",
    "X_train, X_test, y_train, y_test = train_test_split(X_fusion, y, test_size=0.3, random_state=0)\n",
    "dico_acc_g = {}\n",
    "for nom, classif in liste_classif:\n",
    "    classif.fit(X_train, y_train)\n",
    "    y_pred = classif.predict(X_test)\n",
    "    dico_acc_g[nom]=round(accuracy_score(y_test,y_pred),2)\n",
    "    #print(nom)\n",
    "    #print(confusion_matrix(y_test,y_pred))\n",
    "    #print(\"**************\")\n",
    "    \n",
    "dico_acc_g_trie = trier_dic(dico_acc_g)\n",
    "\n",
    "print(\"Voici l'ordre de classement des classifieurs\",dico_acc_g_trie)"
   ]
  }
 ],
 "metadata": {
  "kernelspec": {
   "display_name": "Python 3 (ipykernel)",
   "language": "python",
   "name": "python3"
  },
  "language_info": {
   "codemirror_mode": {
    "name": "ipython",
    "version": 3
   },
   "file_extension": ".py",
   "mimetype": "text/x-python",
   "name": "python",
   "nbconvert_exporter": "python",
   "pygments_lexer": "ipython3",
   "version": "3.10.4"
  }
 },
 "nbformat": 4,
 "nbformat_minor": 2
}
